{
 "cells": [
  {
   "cell_type": "markdown",
   "metadata": {
    "deletable": true,
    "editable": true
   },
   "source": [
    "<h1>SVM</h1>"
   ]
  },
  {
   "cell_type": "markdown",
   "metadata": {
    "deletable": true,
    "editable": true
   },
   "source": [
    "<img src=\"./img/svm.png\">"
   ]
  },
  {
   "cell_type": "code",
   "execution_count": 5,
   "metadata": {
    "collapsed": false,
    "deletable": true,
    "editable": true,
    "scrolled": true
   },
   "outputs": [
    {
     "name": "stdout",
     "output_type": "stream",
     "text": [
      "0.9\n",
      "[2 2]\n"
     ]
    }
   ],
   "source": [
    "import numpy as np\n",
    "from sklearn import preprocessing, cross_validation, svm\n",
    "import pandas as pd\n",
    "\n",
    "df = pd.read_csv('dataset/breast_cancer.txt')\n",
    "df.replace('?',-9999,inplace=True)\n",
    "\n",
    "# remove useless data, we can also do drop na but that might reduce data set\n",
    "df.drop(['id'],1,inplace=True)  \n",
    "\n",
    "x = np.array(df.drop(['class'],1))\n",
    "y = np.array(df['class'])\n",
    "\n",
    "\n",
    "x_train, x_test, y_train, y_test = cross_validation.train_test_split(x,y,test_size=0.2)\n",
    "\n",
    "\n",
    "# train classifier\n",
    "clf = svm.SVC()\n",
    "clf.fit(x_train,y_train)\n",
    "\n",
    "accuracy = clf.score(x_test, y_test)\n",
    "\n",
    "print(accuracy)\n",
    "\n",
    "# predict something\n",
    "\n",
    "example_measures = np.array([[4,2,1,1,1,2,3,4,1],[4,2,1,2,2,2,3,4,1]])\n",
    "example_measures = example_measures.reshape(len(example_measures),-1)\n",
    "prediction = clf.predict(example_measures)\n",
    "\n",
    "print(prediction)\n"
   ]
  },
  {
   "cell_type": "code",
   "execution_count": 20,
   "metadata": {
    "collapsed": false,
    "deletable": true,
    "editable": true
   },
   "outputs": [
    {
     "data": {
      "text/html": [
       "\n",
       "        <iframe\n",
       "            width=\"400\"\n",
       "            height=\"300\"\n",
       "            src=\"https://www.youtube.com/embed/https://www.youtube.com/watch?v=VngCRWPrNNc&index=21&list=PLQVvvaa0QuDfKTOs3Keq_kaG2P55YRn5v\"\n",
       "            frameborder=\"0\"\n",
       "            allowfullscreen\n",
       "        ></iframe>\n",
       "        "
      ],
      "text/plain": [
       "<IPython.lib.display.YouTubeVideo at 0x7f52b64e8da0>"
      ]
     },
     "execution_count": 20,
     "metadata": {},
     "output_type": "execute_result"
    }
   ],
   "source": [
    "from IPython.display import YouTubeVideo\n",
    "YouTubeVideo('https://www.youtube.com/watch?v=VngCRWPrNNc&index=21&list=PLQVvvaa0QuDfKTOs3Keq_kaG2P55YRn5v')\n",
    "# we need W(normal to hyperplane) and b(the bias) to solve the equation\n",
    "# U.W + b >= 0 means one class and otherwise other class\n",
    "# YouTubeVideo('https://www.youtube.com/watch?v=VngCRWPrNNc&index=22&list=PLQVvvaa0QuDfKTOs3Keq_kaG2P55YRn5v')"
   ]
  },
  {
   "cell_type": "markdown",
   "metadata": {
    "collapsed": true,
    "deletable": true,
    "editable": true
   },
   "source": [
    "<h1>Design SVM from Scratch</h1>"
   ]
  },
  {
   "cell_type": "code",
   "execution_count": null,
   "metadata": {
    "collapsed": true
   },
   "outputs": [],
   "source": [
    "import matplotlib.pyplot as plt\n",
    "from matplotlib import style\n",
    "import numpy as np\n",
    "style.use('ggplot')\n",
    "\n",
    "class Support_Vector_Machine:\n",
    "    def __init__(self, visualization=True):\n",
    "        self.visualization = visualization\n",
    "        self.colors = {1:'r',-1:'b'}\n",
    "        if self.visualization:\n",
    "            self.fig = plt.fugure()\n",
    "            self.as  = self.fig.add_subplot(1,1,1)\n",
    "    \n",
    "    # training \n",
    "    def fit(self, data):\n",
    "        self.data = data\n",
    "        # {||w|| : [w, b]}\n",
    "        opt_dict = {}\n",
    "        # transforms are for w\n",
    "        tranforms = [[1, 1],\n",
    "                     [-1, 1],\n",
    "                     [-1, -1],\n",
    "                     [1, -1]]\n",
    "        all_data = []\n",
    "        for yi in self.data:\n",
    "            for featureset in self.data[yi]:\n",
    "                for feature in featureset:\n",
    "                    all_data.append(feature)\n",
    "                    \n",
    "        self.max_feature_value = max(all_data)\n",
    "        self.min_feature_value = min(all_data)\n",
    "        all_data = None\n",
    "        \n",
    "        step_size = [self.max_feature_value * 0.1,\n",
    "                     self.max_feature_value * 0.01,\n",
    "                     # point of expense\n",
    "                     self.max_feature_value * 0.001]\n",
    "        # extremely expensize\n",
    "        b_range_multiple = 5\n",
    "        # \n",
    "        b_multiple = 5\n",
    "        # first element in W\n",
    "        latest_optimum = self.max_feature_value * 10\n",
    "        \n",
    "        for step in step_sizes:\n",
    "            w \n",
    "        \n",
    "        \n",
    "    \n",
    "    # test\n",
    "    def predict(self, features):\n",
    "        # sign(x.w + b)\n",
    "        classfication = np.sign(np.dot(np.array(features),self.w) + self.b)\n",
    "        return classification\n",
    "\n",
    "\n",
    "data_dict = {-1: np.array([[1,7],\n",
    "                           [2,8],\n",
    "                           [3,8]]),\n",
    "              1: np.array([[5,1],\n",
    "                           [6,-1],\n",
    "                           [7,3],])}\n"
   ]
  }
 ],
 "metadata": {
  "kernelspec": {
   "display_name": "Python 3",
   "language": "python",
   "name": "python3"
  },
  "language_info": {
   "codemirror_mode": {
    "name": "ipython",
    "version": 3
   },
   "file_extension": ".py",
   "mimetype": "text/x-python",
   "name": "python",
   "nbconvert_exporter": "python",
   "pygments_lexer": "ipython3",
   "version": "3.5.2"
  }
 },
 "nbformat": 4,
 "nbformat_minor": 2
}
