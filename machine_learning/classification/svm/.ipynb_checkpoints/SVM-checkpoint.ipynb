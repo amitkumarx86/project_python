{
 "cells": [
  {
   "cell_type": "markdown",
   "metadata": {},
   "source": [
    "<h1>SVM</h1>"
   ]
  },
  {
   "cell_type": "markdown",
   "metadata": {},
   "source": [
    "<img src=\"./img/svm.png\">"
   ]
  },
  {
   "cell_type": "code",
   "execution_count": 5,
   "metadata": {
    "collapsed": false,
    "scrolled": true
   },
   "outputs": [
    {
     "name": "stdout",
     "output_type": "stream",
     "text": [
      "0.9\n",
      "[2 2]\n"
     ]
    }
   ],
   "source": [
    "import numpy as np\n",
    "from sklearn import preprocessing, cross_validation, svm\n",
    "import pandas as pd\n",
    "\n",
    "df = pd.read_csv('dataset/breast_cancer.txt')\n",
    "df.replace('?',-9999,inplace=True)\n",
    "\n",
    "# remove useless data, we can also do drop na but that might reduce data set\n",
    "df.drop(['id'],1,inplace=True)  \n",
    "\n",
    "x = np.array(df.drop(['class'],1))\n",
    "y = np.array(df['class'])\n",
    "\n",
    "\n",
    "x_train, x_test, y_train, y_test = cross_validation.train_test_split(x,y,test_size=0.2)\n",
    "\n",
    "\n",
    "# train classifier\n",
    "clf = svm.SVC()\n",
    "clf.fit(x_train,y_train)\n",
    "\n",
    "accuracy = clf.score(x_test, y_test)\n",
    "\n",
    "print(accuracy)\n",
    "\n",
    "# predict something\n",
    "\n",
    "example_measures = np.array([[4,2,1,1,1,2,3,4,1],[4,2,1,2,2,2,3,4,1]])\n",
    "example_measures = example_measures.reshape(len(example_measures),-1)\n",
    "prediction = clf.predict(example_measures)\n",
    "\n",
    "print(prediction)\n"
   ]
  },
  {
   "cell_type": "code",
   "execution_count": 20,
   "metadata": {
    "collapsed": false
   },
   "outputs": [
    {
     "data": {
      "text/html": [
       "\n",
       "        <iframe\n",
       "            width=\"400\"\n",
       "            height=\"300\"\n",
       "            src=\"https://www.youtube.com/embed/https://www.youtube.com/watch?v=VngCRWPrNNc&index=21&list=PLQVvvaa0QuDfKTOs3Keq_kaG2P55YRn5v\"\n",
       "            frameborder=\"0\"\n",
       "            allowfullscreen\n",
       "        ></iframe>\n",
       "        "
      ],
      "text/plain": [
       "<IPython.lib.display.YouTubeVideo at 0x7f52b64e8da0>"
      ]
     },
     "execution_count": 20,
     "metadata": {},
     "output_type": "execute_result"
    }
   ],
   "source": [
    "from IPython.display import YouTubeVideo\n",
    "YouTubeVideo('https://www.youtube.com/watch?v=VngCRWPrNNc&index=21&list=PLQVvvaa0QuDfKTOs3Keq_kaG2P55YRn5v')\n",
    "# we need W(normal to hyperplane) and b(the bias) to solve the equation\n",
    "# U.W + b >= 0 means one class and otherwise other class\n",
    "# YouTubeVideo('https://www.youtube.com/watch?v=VngCRWPrNNc&index=22&list=PLQVvvaa0QuDfKTOs3Keq_kaG2P55YRn5v')"
   ]
  },
  {
   "cell_type": "code",
   "execution_count": null,
   "metadata": {
    "collapsed": true
   },
   "outputs": [],
   "source": []
  }
 ],
 "metadata": {
  "kernelspec": {
   "display_name": "Python 3",
   "language": "python",
   "name": "python3"
  },
  "language_info": {
   "codemirror_mode": {
    "name": "ipython",
    "version": 3
   },
   "file_extension": ".py",
   "mimetype": "text/x-python",
   "name": "python",
   "nbconvert_exporter": "python",
   "pygments_lexer": "ipython3",
   "version": "3.5.2"
  }
 },
 "nbformat": 4,
 "nbformat_minor": 2
}
